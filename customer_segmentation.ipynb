{
 "cells": [
  {
   "cell_type": "code",
   "execution_count": 1,
   "id": "2de31eae",
   "metadata": {},
   "outputs": [
    {
     "name": "stderr",
     "output_type": "stream",
     "text": [
      "C:\\Users\\Public\\anaconda3\\lib\\site-packages\\scipy\\__init__.py:146: UserWarning: A NumPy version >=1.16.5 and <1.23.0 is required for this version of SciPy (detected version 1.26.2\n",
      "  warnings.warn(f\"A NumPy version >={np_minversion} and <{np_maxversion}\"\n"
     ]
    }
   ],
   "source": [
    "import pandas as pd\n",
    "import numpy as np\n",
    "import matplotlib.pyplot as plt\n",
    "import seaborn as sns\n",
    "import warnings\n",
    "warnings.filterwarnings('ignore')"
   ]
  },
  {
   "cell_type": "code",
   "execution_count": 2,
   "id": "3ce802cb",
   "metadata": {},
   "outputs": [],
   "source": [
    "df=pd.read_csv(r\"C:\\Users\\sovan dash\\Desktop\\Project Session track\\Project Session track- May 2023\\E-Commerce Domain\\E-com_Data.csv\")"
   ]
  },
  {
   "cell_type": "code",
   "execution_count": 3,
   "id": "48ed182f",
   "metadata": {},
   "outputs": [
    {
     "data": {
      "text/html": [
       "<div>\n",
       "<style scoped>\n",
       "    .dataframe tbody tr th:only-of-type {\n",
       "        vertical-align: middle;\n",
       "    }\n",
       "\n",
       "    .dataframe tbody tr th {\n",
       "        vertical-align: top;\n",
       "    }\n",
       "\n",
       "    .dataframe thead th {\n",
       "        text-align: right;\n",
       "    }\n",
       "</style>\n",
       "<table border=\"1\" class=\"dataframe\">\n",
       "  <thead>\n",
       "    <tr style=\"text-align: right;\">\n",
       "      <th></th>\n",
       "      <th>CustomerID</th>\n",
       "      <th>Item Code</th>\n",
       "      <th>InvoieNo</th>\n",
       "      <th>Date of purchase</th>\n",
       "      <th>Quantity</th>\n",
       "      <th>Time</th>\n",
       "      <th>price per Unit</th>\n",
       "      <th>Price</th>\n",
       "      <th>Shipping Location</th>\n",
       "      <th>Cancelled_status</th>\n",
       "      <th>Reason of return</th>\n",
       "      <th>Sold as set</th>\n",
       "    </tr>\n",
       "  </thead>\n",
       "  <tbody>\n",
       "    <tr>\n",
       "      <th>0</th>\n",
       "      <td>4355.0</td>\n",
       "      <td>15734</td>\n",
       "      <td>398177.0</td>\n",
       "      <td>29-10-2017</td>\n",
       "      <td>6.0</td>\n",
       "      <td>3:36:00 PM</td>\n",
       "      <td>321.0</td>\n",
       "      <td>1926.0</td>\n",
       "      <td>Location 1</td>\n",
       "      <td>NaN</td>\n",
       "      <td>NaN</td>\n",
       "      <td>NaN</td>\n",
       "    </tr>\n",
       "    <tr>\n",
       "      <th>1</th>\n",
       "      <td>4352.0</td>\n",
       "      <td>14616</td>\n",
       "      <td>394422.0</td>\n",
       "      <td>05-10-2017</td>\n",
       "      <td>2.0</td>\n",
       "      <td>2:53:00 PM</td>\n",
       "      <td>870.0</td>\n",
       "      <td>1740.0</td>\n",
       "      <td>Location 1</td>\n",
       "      <td>NaN</td>\n",
       "      <td>NaN</td>\n",
       "      <td>NaN</td>\n",
       "    </tr>\n",
       "    <tr>\n",
       "      <th>2</th>\n",
       "      <td>4352.0</td>\n",
       "      <td>14614</td>\n",
       "      <td>394422.0</td>\n",
       "      <td>12-10-2017</td>\n",
       "      <td>2.0</td>\n",
       "      <td>2:53:00 PM</td>\n",
       "      <td>933.0</td>\n",
       "      <td>1866.0</td>\n",
       "      <td>Location 1</td>\n",
       "      <td>NaN</td>\n",
       "      <td>NaN</td>\n",
       "      <td>NaN</td>\n",
       "    </tr>\n",
       "    <tr>\n",
       "      <th>3</th>\n",
       "      <td>4352.0</td>\n",
       "      <td>85014B</td>\n",
       "      <td>388633.0</td>\n",
       "      <td>22-08-2017</td>\n",
       "      <td>3.0</td>\n",
       "      <td>2:47:00 PM</td>\n",
       "      <td>623.0</td>\n",
       "      <td>1869.0</td>\n",
       "      <td>Location 1</td>\n",
       "      <td>NaN</td>\n",
       "      <td>NaN</td>\n",
       "      <td>NaN</td>\n",
       "    </tr>\n",
       "    <tr>\n",
       "      <th>4</th>\n",
       "      <td>4352.0</td>\n",
       "      <td>15364</td>\n",
       "      <td>394422.0</td>\n",
       "      <td>10-10-2017</td>\n",
       "      <td>2.0</td>\n",
       "      <td>2:53:00 PM</td>\n",
       "      <td>944.0</td>\n",
       "      <td>1888.0</td>\n",
       "      <td>Location 1</td>\n",
       "      <td>NaN</td>\n",
       "      <td>NaN</td>\n",
       "      <td>NaN</td>\n",
       "    </tr>\n",
       "  </tbody>\n",
       "</table>\n",
       "</div>"
      ],
      "text/plain": [
       "   CustomerID Item Code  InvoieNo Date of purchase  Quantity        Time  \\\n",
       "0      4355.0     15734  398177.0       29-10-2017       6.0  3:36:00 PM   \n",
       "1      4352.0     14616  394422.0       05-10-2017       2.0  2:53:00 PM   \n",
       "2      4352.0     14614  394422.0       12-10-2017       2.0  2:53:00 PM   \n",
       "3      4352.0    85014B  388633.0       22-08-2017       3.0  2:47:00 PM   \n",
       "4      4352.0     15364  394422.0       10-10-2017       2.0  2:53:00 PM   \n",
       "\n",
       "   price per Unit   Price Shipping Location Cancelled_status Reason of return  \\\n",
       "0           321.0  1926.0        Location 1              NaN              NaN   \n",
       "1           870.0  1740.0        Location 1              NaN              NaN   \n",
       "2           933.0  1866.0        Location 1              NaN              NaN   \n",
       "3           623.0  1869.0        Location 1              NaN              NaN   \n",
       "4           944.0  1888.0        Location 1              NaN              NaN   \n",
       "\n",
       "   Sold as set  \n",
       "0          NaN  \n",
       "1          NaN  \n",
       "2          NaN  \n",
       "3          NaN  \n",
       "4          NaN  "
      ]
     },
     "execution_count": 3,
     "metadata": {},
     "output_type": "execute_result"
    }
   ],
   "source": [
    "df.head()"
   ]
  },
  {
   "cell_type": "code",
   "execution_count": 4,
   "id": "f64b47cd",
   "metadata": {},
   "outputs": [
    {
     "data": {
      "text/plain": [
       "CustomerID            25.304556\n",
       "Item Code              0.579728\n",
       "InvoieNo               0.579728\n",
       "Date of purchase       0.579728\n",
       "Quantity               0.579728\n",
       "Time                   0.579728\n",
       "price per Unit         0.579728\n",
       "Price                  0.579728\n",
       "Shipping Location      0.579728\n",
       "Cancelled_status      98.457817\n",
       "Reason of return      99.999446\n",
       "Sold as set          100.000000\n",
       "dtype: float64"
      ]
     },
     "execution_count": 4,
     "metadata": {},
     "output_type": "execute_result"
    }
   ],
   "source": [
    "#check for missing values\n",
    "df.isna().sum()/df.shape[0]*100"
   ]
  },
  {
   "cell_type": "code",
   "execution_count": 5,
   "id": "813ce1a3",
   "metadata": {},
   "outputs": [
    {
     "data": {
      "text/plain": [
       "(541116, 12)"
      ]
     },
     "execution_count": 5,
     "metadata": {},
     "output_type": "execute_result"
    }
   ],
   "source": [
    "df.shape"
   ]
  },
  {
   "cell_type": "code",
   "execution_count": 6,
   "id": "b93fe55a",
   "metadata": {},
   "outputs": [],
   "source": [
    "#lets drop the rows of CustomerID\n",
    "#drop the columns with more than 30percent missing values\n",
    "\n",
    "df.drop(['Cancelled_status','Reason of return','Sold as set','Shipping Location','Item Code'],inplace=True,axis=1)\n",
    "df.dropna(inplace=True)"
   ]
  },
  {
   "cell_type": "code",
   "execution_count": 7,
   "id": "60dd38a9",
   "metadata": {},
   "outputs": [
    {
     "data": {
      "text/plain": [
       "CustomerID          0\n",
       "InvoieNo            0\n",
       "Date of purchase    0\n",
       "Quantity            0\n",
       "Time                0\n",
       "price per Unit      0\n",
       "Price               0\n",
       "dtype: int64"
      ]
     },
     "execution_count": 7,
     "metadata": {},
     "output_type": "execute_result"
    }
   ],
   "source": [
    "df.isna().sum()"
   ]
  },
  {
   "cell_type": "code",
   "execution_count": 8,
   "id": "606dd923",
   "metadata": {},
   "outputs": [
    {
     "data": {
      "text/plain": [
       "(404189, 7)"
      ]
     },
     "execution_count": 8,
     "metadata": {},
     "output_type": "execute_result"
    }
   ],
   "source": [
    "df.shape"
   ]
  },
  {
   "cell_type": "code",
   "execution_count": 9,
   "id": "e8139dd6",
   "metadata": {},
   "outputs": [
    {
     "data": {
      "text/plain": [
       "673"
      ]
     },
     "execution_count": 9,
     "metadata": {},
     "output_type": "execute_result"
    }
   ],
   "source": [
    "df.duplicated().sum()"
   ]
  },
  {
   "cell_type": "code",
   "execution_count": 10,
   "id": "dedd7da9",
   "metadata": {},
   "outputs": [],
   "source": [
    "df.drop_duplicates(inplace=True,ignore_index=True)"
   ]
  },
  {
   "cell_type": "code",
   "execution_count": 11,
   "id": "a9ce5319",
   "metadata": {},
   "outputs": [
    {
     "data": {
      "text/html": [
       "<div>\n",
       "<style scoped>\n",
       "    .dataframe tbody tr th:only-of-type {\n",
       "        vertical-align: middle;\n",
       "    }\n",
       "\n",
       "    .dataframe tbody tr th {\n",
       "        vertical-align: top;\n",
       "    }\n",
       "\n",
       "    .dataframe thead th {\n",
       "        text-align: right;\n",
       "    }\n",
       "</style>\n",
       "<table border=\"1\" class=\"dataframe\">\n",
       "  <thead>\n",
       "    <tr style=\"text-align: right;\">\n",
       "      <th></th>\n",
       "      <th>CustomerID</th>\n",
       "      <th>InvoieNo</th>\n",
       "      <th>Date of purchase</th>\n",
       "      <th>Quantity</th>\n",
       "      <th>Time</th>\n",
       "      <th>price per Unit</th>\n",
       "      <th>Price</th>\n",
       "    </tr>\n",
       "  </thead>\n",
       "  <tbody>\n",
       "    <tr>\n",
       "      <th>0</th>\n",
       "      <td>4355.0</td>\n",
       "      <td>398177.0</td>\n",
       "      <td>29-10-2017</td>\n",
       "      <td>6.0</td>\n",
       "      <td>3:36:00 PM</td>\n",
       "      <td>321.0</td>\n",
       "      <td>1926.0</td>\n",
       "    </tr>\n",
       "    <tr>\n",
       "      <th>1</th>\n",
       "      <td>4352.0</td>\n",
       "      <td>394422.0</td>\n",
       "      <td>05-10-2017</td>\n",
       "      <td>2.0</td>\n",
       "      <td>2:53:00 PM</td>\n",
       "      <td>870.0</td>\n",
       "      <td>1740.0</td>\n",
       "    </tr>\n",
       "    <tr>\n",
       "      <th>2</th>\n",
       "      <td>4352.0</td>\n",
       "      <td>394422.0</td>\n",
       "      <td>12-10-2017</td>\n",
       "      <td>2.0</td>\n",
       "      <td>2:53:00 PM</td>\n",
       "      <td>933.0</td>\n",
       "      <td>1866.0</td>\n",
       "    </tr>\n",
       "    <tr>\n",
       "      <th>3</th>\n",
       "      <td>4352.0</td>\n",
       "      <td>388633.0</td>\n",
       "      <td>22-08-2017</td>\n",
       "      <td>3.0</td>\n",
       "      <td>2:47:00 PM</td>\n",
       "      <td>623.0</td>\n",
       "      <td>1869.0</td>\n",
       "    </tr>\n",
       "    <tr>\n",
       "      <th>4</th>\n",
       "      <td>4352.0</td>\n",
       "      <td>394422.0</td>\n",
       "      <td>10-10-2017</td>\n",
       "      <td>2.0</td>\n",
       "      <td>2:53:00 PM</td>\n",
       "      <td>944.0</td>\n",
       "      <td>1888.0</td>\n",
       "    </tr>\n",
       "  </tbody>\n",
       "</table>\n",
       "</div>"
      ],
      "text/plain": [
       "   CustomerID  InvoieNo Date of purchase  Quantity        Time  \\\n",
       "0      4355.0  398177.0       29-10-2017       6.0  3:36:00 PM   \n",
       "1      4352.0  394422.0       05-10-2017       2.0  2:53:00 PM   \n",
       "2      4352.0  394422.0       12-10-2017       2.0  2:53:00 PM   \n",
       "3      4352.0  388633.0       22-08-2017       3.0  2:47:00 PM   \n",
       "4      4352.0  394422.0       10-10-2017       2.0  2:53:00 PM   \n",
       "\n",
       "   price per Unit   Price  \n",
       "0           321.0  1926.0  \n",
       "1           870.0  1740.0  \n",
       "2           933.0  1866.0  \n",
       "3           623.0  1869.0  \n",
       "4           944.0  1888.0  "
      ]
     },
     "execution_count": 11,
     "metadata": {},
     "output_type": "execute_result"
    }
   ],
   "source": [
    "df.head()"
   ]
  },
  {
   "cell_type": "code",
   "execution_count": 12,
   "id": "5af0e236",
   "metadata": {},
   "outputs": [
    {
     "name": "stdout",
     "output_type": "stream",
     "text": [
      "<class 'pandas.core.frame.DataFrame'>\n",
      "RangeIndex: 403516 entries, 0 to 403515\n",
      "Data columns (total 7 columns):\n",
      " #   Column            Non-Null Count   Dtype  \n",
      "---  ------            --------------   -----  \n",
      " 0   CustomerID        403516 non-null  float64\n",
      " 1   InvoieNo          403516 non-null  float64\n",
      " 2   Date of purchase  403516 non-null  object \n",
      " 3   Quantity          403516 non-null  float64\n",
      " 4   Time              403516 non-null  object \n",
      " 5   price per Unit    403516 non-null  float64\n",
      " 6   Price             403516 non-null  float64\n",
      "dtypes: float64(5), object(2)\n",
      "memory usage: 21.6+ MB\n"
     ]
    }
   ],
   "source": [
    "df.info()"
   ]
  },
  {
   "cell_type": "code",
   "execution_count": 13,
   "id": "20b3033f",
   "metadata": {},
   "outputs": [],
   "source": [
    "#change the time to the paticular hour\n",
    "df['Time']=pd.to_datetime(df['Time']).dt.hour"
   ]
  },
  {
   "cell_type": "code",
   "execution_count": 14,
   "id": "d4a5a562",
   "metadata": {},
   "outputs": [],
   "source": [
    "#change time format to date time format\n",
    "\n",
    "df['Date of purchase']=pd.to_datetime(df['Date of purchase'])"
   ]
  },
  {
   "cell_type": "code",
   "execution_count": 15,
   "id": "9fa2b8b5",
   "metadata": {},
   "outputs": [],
   "source": [
    "df=df.rename(columns={'InvoieNo':'InvoiceNo','Date of purchase':'Date','Time':'Time(hr)'})"
   ]
  },
  {
   "cell_type": "code",
   "execution_count": 16,
   "id": "ee6b6021",
   "metadata": {},
   "outputs": [],
   "source": [
    "df['Quantity']=df['Quantity'].astype(int)"
   ]
  },
  {
   "cell_type": "code",
   "execution_count": 17,
   "id": "434fc0f6",
   "metadata": {},
   "outputs": [
    {
     "data": {
      "text/html": [
       "<div>\n",
       "<style scoped>\n",
       "    .dataframe tbody tr th:only-of-type {\n",
       "        vertical-align: middle;\n",
       "    }\n",
       "\n",
       "    .dataframe tbody tr th {\n",
       "        vertical-align: top;\n",
       "    }\n",
       "\n",
       "    .dataframe thead th {\n",
       "        text-align: right;\n",
       "    }\n",
       "</style>\n",
       "<table border=\"1\" class=\"dataframe\">\n",
       "  <thead>\n",
       "    <tr style=\"text-align: right;\">\n",
       "      <th></th>\n",
       "      <th>CustomerID</th>\n",
       "      <th>InvoiceNo</th>\n",
       "      <th>Date</th>\n",
       "      <th>Quantity</th>\n",
       "      <th>Time(hr)</th>\n",
       "      <th>price per Unit</th>\n",
       "      <th>Price</th>\n",
       "    </tr>\n",
       "  </thead>\n",
       "  <tbody>\n",
       "    <tr>\n",
       "      <th>0</th>\n",
       "      <td>4355.0</td>\n",
       "      <td>398177.0</td>\n",
       "      <td>2017-10-29</td>\n",
       "      <td>6</td>\n",
       "      <td>15</td>\n",
       "      <td>321.0</td>\n",
       "      <td>1926.0</td>\n",
       "    </tr>\n",
       "    <tr>\n",
       "      <th>1</th>\n",
       "      <td>4352.0</td>\n",
       "      <td>394422.0</td>\n",
       "      <td>2017-05-10</td>\n",
       "      <td>2</td>\n",
       "      <td>14</td>\n",
       "      <td>870.0</td>\n",
       "      <td>1740.0</td>\n",
       "    </tr>\n",
       "    <tr>\n",
       "      <th>2</th>\n",
       "      <td>4352.0</td>\n",
       "      <td>394422.0</td>\n",
       "      <td>2017-12-10</td>\n",
       "      <td>2</td>\n",
       "      <td>14</td>\n",
       "      <td>933.0</td>\n",
       "      <td>1866.0</td>\n",
       "    </tr>\n",
       "    <tr>\n",
       "      <th>3</th>\n",
       "      <td>4352.0</td>\n",
       "      <td>388633.0</td>\n",
       "      <td>2017-08-22</td>\n",
       "      <td>3</td>\n",
       "      <td>14</td>\n",
       "      <td>623.0</td>\n",
       "      <td>1869.0</td>\n",
       "    </tr>\n",
       "    <tr>\n",
       "      <th>4</th>\n",
       "      <td>4352.0</td>\n",
       "      <td>394422.0</td>\n",
       "      <td>2017-10-10</td>\n",
       "      <td>2</td>\n",
       "      <td>14</td>\n",
       "      <td>944.0</td>\n",
       "      <td>1888.0</td>\n",
       "    </tr>\n",
       "  </tbody>\n",
       "</table>\n",
       "</div>"
      ],
      "text/plain": [
       "   CustomerID  InvoiceNo       Date  Quantity  Time(hr)  price per Unit  \\\n",
       "0      4355.0   398177.0 2017-10-29         6        15           321.0   \n",
       "1      4352.0   394422.0 2017-05-10         2        14           870.0   \n",
       "2      4352.0   394422.0 2017-12-10         2        14           933.0   \n",
       "3      4352.0   388633.0 2017-08-22         3        14           623.0   \n",
       "4      4352.0   394422.0 2017-10-10         2        14           944.0   \n",
       "\n",
       "    Price  \n",
       "0  1926.0  \n",
       "1  1740.0  \n",
       "2  1866.0  \n",
       "3  1869.0  \n",
       "4  1888.0  "
      ]
     },
     "execution_count": 17,
     "metadata": {},
     "output_type": "execute_result"
    }
   ],
   "source": [
    "df.head()"
   ]
  },
  {
   "cell_type": "code",
   "execution_count": 18,
   "id": "dd2690d7",
   "metadata": {},
   "outputs": [
    {
     "data": {
      "image/png": "[encoded data removed]",
      "text/plain": [
       "<Figure size 432x432 with 1 Axes>"
      ]
     },
     "metadata": {
      "needs_background": "light"
     },
     "output_type": "display_data"
    }
   ],
   "source": [
    "plt.figure(figsize=(6,6))\n",
    "plt.hist(df['Time(hr)'],density=True,edgecolor='black')\n",
    "plt.title('distribution of time at which people shop')\n",
    "plt.xlabel('hour of the day')\n",
    "plt.ylabel('density')\n",
    "\n",
    "plt.grid(True,alpha=0.5)\n",
    "plt.show()"
   ]
  },
  {
   "cell_type": "code",
   "execution_count": 19,
   "id": "9527fe91",
   "metadata": {},
   "outputs": [],
   "source": [
    "dataset=df[['CustomerID','InvoiceNo','Date','Price']]"
   ]
  },
  {
   "cell_type": "code",
   "execution_count": 20,
   "id": "6c55b4ed",
   "metadata": {},
   "outputs": [],
   "source": [
    "import datetime as dt\n",
    "latest_date=dt.datetime(2017,12,20)"
   ]
  },
  {
   "cell_type": "code",
   "execution_count": 21,
   "id": "296e6d08",
   "metadata": {},
   "outputs": [],
   "source": [
    "RFM=dataset.groupby('CustomerID').agg({\n",
    "    'Date':lambda x:(latest_date-x.max()).days,\n",
    "    'InvoiceNo':lambda x:x.count(),\n",
    "    'Price': lambda x:x.sum()\n",
    "})\n",
    "\n",
    "RFM.rename(columns={'Date':'Recency','InvoiceNo':'Frequency','Price':'Monetary'},inplace=True)"
   ]
  },
  {
   "cell_type": "code",
   "execution_count": 22,
   "id": "0b8e013c",
   "metadata": {},
   "outputs": [
    {
     "data": {
      "image/png": "[encoded data removed]",
      "text/plain": [
       "<Figure size 864x432 with 3 Axes>"
      ]
     },
     "metadata": {
      "needs_background": "light"
     },
     "output_type": "display_data"
    }
   ],
   "source": [
    "plt.figure(figsize=(12,6))\n",
    "\n",
    "\n",
    "plt.subplot(1,3,1)\n",
    "sns.distplot(RFM['Recency'])\n",
    "\n",
    "plt.subplot(1,3,2)\n",
    "sns.distplot(RFM['Frequency'])\n",
    "\n",
    "plt.subplot(1,3,3)\n",
    "sns.distplot(RFM['Monetary'])\n",
    "\n",
    "plt.tight_layout()\n",
    "plt.show()"
   ]
  },
  {
   "cell_type": "code",
   "execution_count": 23,
   "id": "fe7a6561",
   "metadata": {},
   "outputs": [],
   "source": [
    "#the data here is highly skewed, we will apply log transformation and check the results"
   ]
  },
  {
   "cell_type": "code",
   "execution_count": 24,
   "id": "3b07e068",
   "metadata": {},
   "outputs": [],
   "source": [
    "RFM=RFM.reset_index(drop=True)"
   ]
  },
  {
   "cell_type": "code",
   "execution_count": 25,
   "id": "1f1777f3",
   "metadata": {},
   "outputs": [],
   "source": [
    "quantile=RFM.quantile([0.25,0.5,0.75]).to_dict()"
   ]
  },
  {
   "cell_type": "code",
   "execution_count": 26,
   "id": "8363de06",
   "metadata": {},
   "outputs": [
    {
     "data": {
      "text/plain": [
       "{'Recency': {0.25: 10.0, 0.5: 19.0, 0.75: 73.0},\n",
       " 'Frequency': {0.25: 17.0, 0.5: 42.0, 0.75: 101.0},\n",
       " 'Monetary': {0.25: 38147.0, 0.5: 83635.0, 0.75: 205535.0}}"
      ]
     },
     "execution_count": 26,
     "metadata": {},
     "output_type": "execute_result"
    }
   ],
   "source": [
    "quantile"
   ]
  },
  {
   "cell_type": "code",
   "execution_count": 27,
   "id": "81be076c",
   "metadata": {},
   "outputs": [
    {
     "data": {
      "text/plain": [
       "10.0"
      ]
     },
     "execution_count": 27,
     "metadata": {},
     "output_type": "execute_result"
    }
   ],
   "source": [
    "quantile['Recency'][0.25]"
   ]
  },
  {
   "cell_type": "code",
   "execution_count": 28,
   "id": "1d4af5fc",
   "metadata": {},
   "outputs": [],
   "source": [
    "def recency_rating(x,q,a):\n",
    "    if x<=q[a][0.25]:\n",
    "        return 1\n",
    "    elif x<=q[a][0.5]:\n",
    "        return 2\n",
    "    elif x<=q[a][0.75]:\n",
    "        return 3\n",
    "    else:\n",
    "        return 4\n",
    "    \n",
    "def frequency_rating(x,q,a):\n",
    "    if x>=q[a][0.75]:\n",
    "        return 1\n",
    "    elif x>=q[a][0.5]:\n",
    "        return 2\n",
    "    elif x>=q[a][0.25]:\n",
    "        return 3\n",
    "    else:\n",
    "        return 4\n",
    "    \n",
    "def monetary_rating(x,q,a):\n",
    "    if x>=q[a][0.75]:\n",
    "        return 1\n",
    "    elif x>=q[a][0.5]:\n",
    "        return 2\n",
    "    elif x>=q[a][0.25]:\n",
    "        return 3\n",
    "    else:\n",
    "        return 4"
   ]
  },
  {
   "cell_type": "code",
   "execution_count": 29,
   "id": "7ecdb089",
   "metadata": {},
   "outputs": [],
   "source": [
    "RFM['R']=RFM['Recency'].apply(recency_rating,args=(quantile,'Recency'))\n",
    "RFM['F']=RFM['Frequency'].apply(frequency_rating,args=(quantile,'Frequency'))\n",
    "RFM['M']=RFM['Monetary'].apply(monetary_rating,args=(quantile,'Monetary'))"
   ]
  },
  {
   "cell_type": "code",
   "execution_count": 30,
   "id": "493a7884",
   "metadata": {},
   "outputs": [],
   "source": [
    "RFM['score']=RFM['R']+RFM['F']+RFM['M']"
   ]
  },
  {
   "cell_type": "code",
   "execution_count": 31,
   "id": "52458a97",
   "metadata": {},
   "outputs": [
    {
     "data": {
      "text/html": [
       "<div>\n",
       "<style scoped>\n",
       "    .dataframe tbody tr th:only-of-type {\n",
       "        vertical-align: middle;\n",
       "    }\n",
       "\n",
       "    .dataframe tbody tr th {\n",
       "        vertical-align: top;\n",
       "    }\n",
       "\n",
       "    .dataframe thead th {\n",
       "        text-align: right;\n",
       "    }\n",
       "</style>\n",
       "<table border=\"1\" class=\"dataframe\">\n",
       "  <thead>\n",
       "    <tr style=\"text-align: right;\">\n",
       "      <th></th>\n",
       "      <th>Recency</th>\n",
       "      <th>Frequency</th>\n",
       "      <th>Monetary</th>\n",
       "      <th>R</th>\n",
       "      <th>F</th>\n",
       "      <th>M</th>\n",
       "      <th>score</th>\n",
       "    </tr>\n",
       "  </thead>\n",
       "  <tbody>\n",
       "    <tr>\n",
       "      <th>0</th>\n",
       "      <td>4</td>\n",
       "      <td>182</td>\n",
       "      <td>553704.0</td>\n",
       "      <td>1</td>\n",
       "      <td>1</td>\n",
       "      <td>1</td>\n",
       "      <td>3</td>\n",
       "    </tr>\n",
       "    <tr>\n",
       "      <th>1</th>\n",
       "      <td>77</td>\n",
       "      <td>27</td>\n",
       "      <td>257404.0</td>\n",
       "      <td>4</td>\n",
       "      <td>3</td>\n",
       "      <td>1</td>\n",
       "      <td>8</td>\n",
       "    </tr>\n",
       "    <tr>\n",
       "      <th>2</th>\n",
       "      <td>20</td>\n",
       "      <td>72</td>\n",
       "      <td>176613.0</td>\n",
       "      <td>3</td>\n",
       "      <td>2</td>\n",
       "      <td>2</td>\n",
       "      <td>7</td>\n",
       "    </tr>\n",
       "    <tr>\n",
       "      <th>3</th>\n",
       "      <td>18</td>\n",
       "      <td>16</td>\n",
       "      <td>41976.0</td>\n",
       "      <td>2</td>\n",
       "      <td>4</td>\n",
       "      <td>3</td>\n",
       "      <td>9</td>\n",
       "    </tr>\n",
       "    <tr>\n",
       "      <th>4</th>\n",
       "      <td>9</td>\n",
       "      <td>84</td>\n",
       "      <td>151822.0</td>\n",
       "      <td>1</td>\n",
       "      <td>2</td>\n",
       "      <td>2</td>\n",
       "      <td>5</td>\n",
       "    </tr>\n",
       "    <tr>\n",
       "      <th>...</th>\n",
       "      <td>...</td>\n",
       "      <td>...</td>\n",
       "      <td>...</td>\n",
       "      <td>...</td>\n",
       "      <td>...</td>\n",
       "      <td>...</td>\n",
       "      <td>...</td>\n",
       "    </tr>\n",
       "    <tr>\n",
       "      <th>4344</th>\n",
       "      <td>17</td>\n",
       "      <td>10</td>\n",
       "      <td>20480.0</td>\n",
       "      <td>2</td>\n",
       "      <td>4</td>\n",
       "      <td>4</td>\n",
       "      <td>10</td>\n",
       "    </tr>\n",
       "    <tr>\n",
       "      <th>4345</th>\n",
       "      <td>181</td>\n",
       "      <td>7</td>\n",
       "      <td>10774.0</td>\n",
       "      <td>4</td>\n",
       "      <td>4</td>\n",
       "      <td>4</td>\n",
       "      <td>12</td>\n",
       "    </tr>\n",
       "    <tr>\n",
       "      <th>4346</th>\n",
       "      <td>12</td>\n",
       "      <td>13</td>\n",
       "      <td>24962.0</td>\n",
       "      <td>2</td>\n",
       "      <td>4</td>\n",
       "      <td>4</td>\n",
       "      <td>10</td>\n",
       "    </tr>\n",
       "    <tr>\n",
       "      <th>4347</th>\n",
       "      <td>4</td>\n",
       "      <td>752</td>\n",
       "      <td>280188.0</td>\n",
       "      <td>1</td>\n",
       "      <td>1</td>\n",
       "      <td>1</td>\n",
       "      <td>3</td>\n",
       "    </tr>\n",
       "    <tr>\n",
       "      <th>4348</th>\n",
       "      <td>51</td>\n",
       "      <td>69</td>\n",
       "      <td>260696.0</td>\n",
       "      <td>3</td>\n",
       "      <td>2</td>\n",
       "      <td>1</td>\n",
       "      <td>6</td>\n",
       "    </tr>\n",
       "  </tbody>\n",
       "</table>\n",
       "<p>4349 rows × 7 columns</p>\n",
       "</div>"
      ],
      "text/plain": [
       "      Recency  Frequency  Monetary  R  F  M  score\n",
       "0           4        182  553704.0  1  1  1      3\n",
       "1          77         27  257404.0  4  3  1      8\n",
       "2          20         72  176613.0  3  2  2      7\n",
       "3          18         16   41976.0  2  4  3      9\n",
       "4           9         84  151822.0  1  2  2      5\n",
       "...       ...        ...       ... .. .. ..    ...\n",
       "4344       17         10   20480.0  2  4  4     10\n",
       "4345      181          7   10774.0  4  4  4     12\n",
       "4346       12         13   24962.0  2  4  4     10\n",
       "4347        4        752  280188.0  1  1  1      3\n",
       "4348       51         69  260696.0  3  2  1      6\n",
       "\n",
       "[4349 rows x 7 columns]"
      ]
     },
     "execution_count": 31,
     "metadata": {},
     "output_type": "execute_result"
    }
   ],
   "source": [
    "RFM"
   ]
  },
  {
   "cell_type": "code",
   "execution_count": 32,
   "id": "96ecd75f",
   "metadata": {},
   "outputs": [],
   "source": [
    "def cluster(score):\n",
    "    if score<=5:\n",
    "        return 1\n",
    "    elif score<=8:\n",
    "        return 2\n",
    "    elif score<=10:\n",
    "        return 3\n",
    "    else:\n",
    "        return 4"
   ]
  },
  {
   "cell_type": "code",
   "execution_count": 33,
   "id": "85e279da",
   "metadata": {},
   "outputs": [],
   "source": [
    "RFM['cluster']=RFM['score'].map(cluster)"
   ]
  },
  {
   "cell_type": "code",
   "execution_count": 34,
   "id": "cafa70d3",
   "metadata": {},
   "outputs": [
    {
     "data": {
      "text/html": [
       "<div>\n",
       "<style scoped>\n",
       "    .dataframe tbody tr th:only-of-type {\n",
       "        vertical-align: middle;\n",
       "    }\n",
       "\n",
       "    .dataframe tbody tr th {\n",
       "        vertical-align: top;\n",
       "    }\n",
       "\n",
       "    .dataframe thead th {\n",
       "        text-align: right;\n",
       "    }\n",
       "</style>\n",
       "<table border=\"1\" class=\"dataframe\">\n",
       "  <thead>\n",
       "    <tr style=\"text-align: right;\">\n",
       "      <th></th>\n",
       "      <th>Recency</th>\n",
       "      <th>Frequency</th>\n",
       "      <th>Monetary</th>\n",
       "      <th>R</th>\n",
       "      <th>F</th>\n",
       "      <th>M</th>\n",
       "      <th>score</th>\n",
       "      <th>cluster</th>\n",
       "    </tr>\n",
       "  </thead>\n",
       "  <tbody>\n",
       "    <tr>\n",
       "      <th>0</th>\n",
       "      <td>4</td>\n",
       "      <td>182</td>\n",
       "      <td>553704.0</td>\n",
       "      <td>1</td>\n",
       "      <td>1</td>\n",
       "      <td>1</td>\n",
       "      <td>3</td>\n",
       "      <td>1</td>\n",
       "    </tr>\n",
       "    <tr>\n",
       "      <th>1</th>\n",
       "      <td>77</td>\n",
       "      <td>27</td>\n",
       "      <td>257404.0</td>\n",
       "      <td>4</td>\n",
       "      <td>3</td>\n",
       "      <td>1</td>\n",
       "      <td>8</td>\n",
       "      <td>2</td>\n",
       "    </tr>\n",
       "    <tr>\n",
       "      <th>2</th>\n",
       "      <td>20</td>\n",
       "      <td>72</td>\n",
       "      <td>176613.0</td>\n",
       "      <td>3</td>\n",
       "      <td>2</td>\n",
       "      <td>2</td>\n",
       "      <td>7</td>\n",
       "      <td>2</td>\n",
       "    </tr>\n",
       "    <tr>\n",
       "      <th>3</th>\n",
       "      <td>18</td>\n",
       "      <td>16</td>\n",
       "      <td>41976.0</td>\n",
       "      <td>2</td>\n",
       "      <td>4</td>\n",
       "      <td>3</td>\n",
       "      <td>9</td>\n",
       "      <td>3</td>\n",
       "    </tr>\n",
       "    <tr>\n",
       "      <th>4</th>\n",
       "      <td>9</td>\n",
       "      <td>84</td>\n",
       "      <td>151822.0</td>\n",
       "      <td>1</td>\n",
       "      <td>2</td>\n",
       "      <td>2</td>\n",
       "      <td>5</td>\n",
       "      <td>1</td>\n",
       "    </tr>\n",
       "    <tr>\n",
       "      <th>...</th>\n",
       "      <td>...</td>\n",
       "      <td>...</td>\n",
       "      <td>...</td>\n",
       "      <td>...</td>\n",
       "      <td>...</td>\n",
       "      <td>...</td>\n",
       "      <td>...</td>\n",
       "      <td>...</td>\n",
       "    </tr>\n",
       "    <tr>\n",
       "      <th>4344</th>\n",
       "      <td>17</td>\n",
       "      <td>10</td>\n",
       "      <td>20480.0</td>\n",
       "      <td>2</td>\n",
       "      <td>4</td>\n",
       "      <td>4</td>\n",
       "      <td>10</td>\n",
       "      <td>3</td>\n",
       "    </tr>\n",
       "    <tr>\n",
       "      <th>4345</th>\n",
       "      <td>181</td>\n",
       "      <td>7</td>\n",
       "      <td>10774.0</td>\n",
       "      <td>4</td>\n",
       "      <td>4</td>\n",
       "      <td>4</td>\n",
       "      <td>12</td>\n",
       "      <td>4</td>\n",
       "    </tr>\n",
       "    <tr>\n",
       "      <th>4346</th>\n",
       "      <td>12</td>\n",
       "      <td>13</td>\n",
       "      <td>24962.0</td>\n",
       "      <td>2</td>\n",
       "      <td>4</td>\n",
       "      <td>4</td>\n",
       "      <td>10</td>\n",
       "      <td>3</td>\n",
       "    </tr>\n",
       "    <tr>\n",
       "      <th>4347</th>\n",
       "      <td>4</td>\n",
       "      <td>752</td>\n",
       "      <td>280188.0</td>\n",
       "      <td>1</td>\n",
       "      <td>1</td>\n",
       "      <td>1</td>\n",
       "      <td>3</td>\n",
       "      <td>1</td>\n",
       "    </tr>\n",
       "    <tr>\n",
       "      <th>4348</th>\n",
       "      <td>51</td>\n",
       "      <td>69</td>\n",
       "      <td>260696.0</td>\n",
       "      <td>3</td>\n",
       "      <td>2</td>\n",
       "      <td>1</td>\n",
       "      <td>6</td>\n",
       "      <td>2</td>\n",
       "    </tr>\n",
       "  </tbody>\n",
       "</table>\n",
       "<p>4349 rows × 8 columns</p>\n",
       "</div>"
      ],
      "text/plain": [
       "      Recency  Frequency  Monetary  R  F  M  score  cluster\n",
       "0           4        182  553704.0  1  1  1      3        1\n",
       "1          77         27  257404.0  4  3  1      8        2\n",
       "2          20         72  176613.0  3  2  2      7        2\n",
       "3          18         16   41976.0  2  4  3      9        3\n",
       "4           9         84  151822.0  1  2  2      5        1\n",
       "...       ...        ...       ... .. .. ..    ...      ...\n",
       "4344       17         10   20480.0  2  4  4     10        3\n",
       "4345      181          7   10774.0  4  4  4     12        4\n",
       "4346       12         13   24962.0  2  4  4     10        3\n",
       "4347        4        752  280188.0  1  1  1      3        1\n",
       "4348       51         69  260696.0  3  2  1      6        2\n",
       "\n",
       "[4349 rows x 8 columns]"
      ]
     },
     "execution_count": 34,
     "metadata": {},
     "output_type": "execute_result"
    }
   ],
   "source": [
    "RFM"
   ]
  },
  {
   "cell_type": "code",
   "execution_count": 35,
   "id": "b01b3dae",
   "metadata": {},
   "outputs": [
    {
     "data": {
      "text/plain": [
       "1    1318\n",
       "2    1297\n",
       "3     939\n",
       "4     795\n",
       "Name: cluster, dtype: int64"
      ]
     },
     "execution_count": 35,
     "metadata": {},
     "output_type": "execute_result"
    }
   ],
   "source": [
    "RFM['cluster'].value_counts()"
   ]
  },
  {
   "cell_type": "markdown",
   "id": "650b7429",
   "metadata": {},
   "source": [
    "# USING KMEANS CLUSTERING"
   ]
  },
  {
   "cell_type": "code",
   "execution_count": 36,
   "id": "9d226730",
   "metadata": {},
   "outputs": [],
   "source": [
    "from sklearn.cluster import KMeans\n",
    "from sklearn.preprocessing import StandardScaler\n",
    "from sklearn.metrics import silhouette_score"
   ]
  },
  {
   "cell_type": "code",
   "execution_count": 37,
   "id": "b16a773d",
   "metadata": {},
   "outputs": [],
   "source": [
    "RFM1=RFM.iloc[:,:3]"
   ]
  },
  {
   "cell_type": "code",
   "execution_count": 38,
   "id": "35f612d8",
   "metadata": {},
   "outputs": [
    {
     "data": {
      "text/html": [
       "<div>\n",
       "<style scoped>\n",
       "    .dataframe tbody tr th:only-of-type {\n",
       "        vertical-align: middle;\n",
       "    }\n",
       "\n",
       "    .dataframe tbody tr th {\n",
       "        vertical-align: top;\n",
       "    }\n",
       "\n",
       "    .dataframe thead th {\n",
       "        text-align: right;\n",
       "    }\n",
       "</style>\n",
       "<table border=\"1\" class=\"dataframe\">\n",
       "  <thead>\n",
       "    <tr style=\"text-align: right;\">\n",
       "      <th></th>\n",
       "      <th>Recency</th>\n",
       "      <th>Frequency</th>\n",
       "      <th>Monetary</th>\n",
       "    </tr>\n",
       "  </thead>\n",
       "  <tbody>\n",
       "    <tr>\n",
       "      <th>0</th>\n",
       "      <td>4</td>\n",
       "      <td>182</td>\n",
       "      <td>553704.0</td>\n",
       "    </tr>\n",
       "    <tr>\n",
       "      <th>1</th>\n",
       "      <td>77</td>\n",
       "      <td>27</td>\n",
       "      <td>257404.0</td>\n",
       "    </tr>\n",
       "    <tr>\n",
       "      <th>2</th>\n",
       "      <td>20</td>\n",
       "      <td>72</td>\n",
       "      <td>176613.0</td>\n",
       "    </tr>\n",
       "    <tr>\n",
       "      <th>3</th>\n",
       "      <td>18</td>\n",
       "      <td>16</td>\n",
       "      <td>41976.0</td>\n",
       "    </tr>\n",
       "    <tr>\n",
       "      <th>4</th>\n",
       "      <td>9</td>\n",
       "      <td>84</td>\n",
       "      <td>151822.0</td>\n",
       "    </tr>\n",
       "    <tr>\n",
       "      <th>...</th>\n",
       "      <td>...</td>\n",
       "      <td>...</td>\n",
       "      <td>...</td>\n",
       "    </tr>\n",
       "    <tr>\n",
       "      <th>4344</th>\n",
       "      <td>17</td>\n",
       "      <td>10</td>\n",
       "      <td>20480.0</td>\n",
       "    </tr>\n",
       "    <tr>\n",
       "      <th>4345</th>\n",
       "      <td>181</td>\n",
       "      <td>7</td>\n",
       "      <td>10774.0</td>\n",
       "    </tr>\n",
       "    <tr>\n",
       "      <th>4346</th>\n",
       "      <td>12</td>\n",
       "      <td>13</td>\n",
       "      <td>24962.0</td>\n",
       "    </tr>\n",
       "    <tr>\n",
       "      <th>4347</th>\n",
       "      <td>4</td>\n",
       "      <td>752</td>\n",
       "      <td>280188.0</td>\n",
       "    </tr>\n",
       "    <tr>\n",
       "      <th>4348</th>\n",
       "      <td>51</td>\n",
       "      <td>69</td>\n",
       "      <td>260696.0</td>\n",
       "    </tr>\n",
       "  </tbody>\n",
       "</table>\n",
       "<p>4349 rows × 3 columns</p>\n",
       "</div>"
      ],
      "text/plain": [
       "      Recency  Frequency  Monetary\n",
       "0           4        182  553704.0\n",
       "1          77         27  257404.0\n",
       "2          20         72  176613.0\n",
       "3          18         16   41976.0\n",
       "4           9         84  151822.0\n",
       "...       ...        ...       ...\n",
       "4344       17         10   20480.0\n",
       "4345      181          7   10774.0\n",
       "4346       12         13   24962.0\n",
       "4347        4        752  280188.0\n",
       "4348       51         69  260696.0\n",
       "\n",
       "[4349 rows x 3 columns]"
      ]
     },
     "execution_count": 38,
     "metadata": {},
     "output_type": "execute_result"
    }
   ],
   "source": [
    "RFM1"
   ]
  },
  {
   "cell_type": "code",
   "execution_count": 39,
   "id": "ff21f78d",
   "metadata": {},
   "outputs": [
    {
     "data": {
      "text/plain": [
       "(0.0, 10000000.0)"
      ]
     },
     "execution_count": 39,
     "metadata": {},
     "output_type": "execute_result"
    },
    {
     "data": {
      "image/png": "[encoded data removed]",
      "text/plain": [
       "<Figure size 432x288 with 1 Axes>"
      ]
     },
     "metadata": {
      "needs_background": "light"
     },
     "output_type": "display_data"
    }
   ],
   "source": [
    "sns.histplot(RFM1['Monetary'],bins=20)\n",
    "plt.xlim((0,10000000))"
   ]
  },
  {
   "cell_type": "code",
   "execution_count": 40,
   "id": "1b344687",
   "metadata": {},
   "outputs": [],
   "source": [
    "#scale the data as RFM have different scales\n",
    "sc=StandardScaler()\n",
    "sc_log=StandardScaler()"
   ]
  },
  {
   "cell_type": "code",
   "execution_count": 41,
   "id": "078ced69",
   "metadata": {},
   "outputs": [],
   "source": [
    "scaled_data=pd.DataFrame(sc.fit_transform(RFM1),columns=RFM1.columns)"
   ]
  },
  {
   "cell_type": "code",
   "execution_count": 42,
   "id": "8cb3b82c",
   "metadata": {},
   "outputs": [
    {
     "data": {
      "text/html": [
       "<div>\n",
       "<style scoped>\n",
       "    .dataframe tbody tr th:only-of-type {\n",
       "        vertical-align: middle;\n",
       "    }\n",
       "\n",
       "    .dataframe tbody tr th {\n",
       "        vertical-align: top;\n",
       "    }\n",
       "\n",
       "    .dataframe thead th {\n",
       "        text-align: right;\n",
       "    }\n",
       "</style>\n",
       "<table border=\"1\" class=\"dataframe\">\n",
       "  <thead>\n",
       "    <tr style=\"text-align: right;\">\n",
       "      <th></th>\n",
       "      <th>Recency</th>\n",
       "      <th>Frequency</th>\n",
       "      <th>Monetary</th>\n",
       "    </tr>\n",
       "  </thead>\n",
       "  <tbody>\n",
       "    <tr>\n",
       "      <th>0</th>\n",
       "      <td>-0.640796</td>\n",
       "      <td>0.385637</td>\n",
       "      <td>0.378333</td>\n",
       "    </tr>\n",
       "    <tr>\n",
       "      <th>1</th>\n",
       "      <td>0.173513</td>\n",
       "      <td>-0.284349</td>\n",
       "      <td>0.032341</td>\n",
       "    </tr>\n",
       "    <tr>\n",
       "      <th>2</th>\n",
       "      <td>-0.462317</td>\n",
       "      <td>-0.089837</td>\n",
       "      <td>-0.061999</td>\n",
       "    </tr>\n",
       "    <tr>\n",
       "      <th>3</th>\n",
       "      <td>-0.484627</td>\n",
       "      <td>-0.331897</td>\n",
       "      <td>-0.219216</td>\n",
       "    </tr>\n",
       "    <tr>\n",
       "      <th>4</th>\n",
       "      <td>-0.585021</td>\n",
       "      <td>-0.037967</td>\n",
       "      <td>-0.090948</td>\n",
       "    </tr>\n",
       "    <tr>\n",
       "      <th>...</th>\n",
       "      <td>...</td>\n",
       "      <td>...</td>\n",
       "      <td>...</td>\n",
       "    </tr>\n",
       "    <tr>\n",
       "      <th>4344</th>\n",
       "      <td>-0.495782</td>\n",
       "      <td>-0.357832</td>\n",
       "      <td>-0.244317</td>\n",
       "    </tr>\n",
       "    <tr>\n",
       "      <th>4345</th>\n",
       "      <td>1.333623</td>\n",
       "      <td>-0.370799</td>\n",
       "      <td>-0.255651</td>\n",
       "    </tr>\n",
       "    <tr>\n",
       "      <th>4346</th>\n",
       "      <td>-0.551556</td>\n",
       "      <td>-0.344864</td>\n",
       "      <td>-0.239083</td>\n",
       "    </tr>\n",
       "    <tr>\n",
       "      <th>4347</th>\n",
       "      <td>-0.640796</td>\n",
       "      <td>2.849458</td>\n",
       "      <td>0.058946</td>\n",
       "    </tr>\n",
       "    <tr>\n",
       "      <th>4348</th>\n",
       "      <td>-0.116515</td>\n",
       "      <td>-0.102805</td>\n",
       "      <td>0.036185</td>\n",
       "    </tr>\n",
       "  </tbody>\n",
       "</table>\n",
       "<p>4349 rows × 3 columns</p>\n",
       "</div>"
      ],
      "text/plain": [
       "       Recency  Frequency  Monetary\n",
       "0    -0.640796   0.385637  0.378333\n",
       "1     0.173513  -0.284349  0.032341\n",
       "2    -0.462317  -0.089837 -0.061999\n",
       "3    -0.484627  -0.331897 -0.219216\n",
       "4    -0.585021  -0.037967 -0.090948\n",
       "...        ...        ...       ...\n",
       "4344 -0.495782  -0.357832 -0.244317\n",
       "4345  1.333623  -0.370799 -0.255651\n",
       "4346 -0.551556  -0.344864 -0.239083\n",
       "4347 -0.640796   2.849458  0.058946\n",
       "4348 -0.116515  -0.102805  0.036185\n",
       "\n",
       "[4349 rows x 3 columns]"
      ]
     },
     "execution_count": 42,
     "metadata": {},
     "output_type": "execute_result"
    }
   ],
   "source": [
    "scaled_data"
   ]
  },
  {
   "cell_type": "code",
   "execution_count": 43,
   "id": "c19431b2",
   "metadata": {},
   "outputs": [],
   "source": [
    "#check the optimal number of clusters by elbow method\n",
    "#evaluate the model using silhoutte score,which suggest how well seperated the clusters are.+1 indicating that the ponit is \n",
    "#properly matched to its own cluster.\n",
    "within_cluster_sum_squares=[]\n",
    "silhouette_scores=[]\n",
    "\n",
    "for i in range(2,15):\n",
    "    kmeans=KMeans(n_clusters=i,max_iter=1000,random_state=42)\n",
    "    kmeans.fit(scaled_data)\n",
    "    within_cluster_sum_squares.append(kmeans.inertia_)\n",
    "    sil_score=silhouette_score(scaled_data,kmeans.labels_)\n",
    "    silhouette_scores.append(sil_score)\n",
    "    "
   ]
  },
  {
   "cell_type": "code",
   "execution_count": 44,
   "id": "a6905884",
   "metadata": {},
   "outputs": [
    {
     "data": {
      "image/png": "[encoded data removed]",
      "text/plain": [
       "<Figure size 864x432 with 2 Axes>"
      ]
     },
     "metadata": {
      "needs_background": "light"
     },
     "output_type": "display_data"
    }
   ],
   "source": [
    "#choose the number of cluster where the wcss becomes constant,here its from 5\n",
    "#silhouette score decreases after 4,5.\n",
    "\n",
    "plt.figure(figsize=(12,6))\n",
    "\n",
    "label_range=[2,3,4,5,6,7,8,9,10,11,12,13,14]\n",
    "\n",
    "plt.subplot(1,2,1)\n",
    "sns.pointplot(label_range,within_cluster_sum_squares)\n",
    "plt.title('no. of clusters vs wcss')\n",
    "\n",
    "plt.subplot(1,2,2)\n",
    "sns.pointplot(label_range,silhouette_scores)\n",
    "plt.title('no. of clusters vs silhouette score')\n",
    "\n",
    "plt.tight_layout()\n",
    "plt.show()"
   ]
  },
  {
   "cell_type": "code",
   "execution_count": 45,
   "id": "f6ddafb7",
   "metadata": {},
   "outputs": [],
   "source": [
    "#looking at the above 2 scores and graph we can choose 4 or 5 clusters to fit our model as the silhouette sccores falls sharply\n",
    "#from there"
   ]
  },
  {
   "cell_type": "code",
   "execution_count": 46,
   "id": "6bdca8e0",
   "metadata": {},
   "outputs": [],
   "source": [
    "kmeans=KMeans(n_clusters=4,max_iter=1000,random_state=42)\n",
    "RFM1['cluster']=kmeans.fit_predict(scaled_data)"
   ]
  },
  {
   "cell_type": "code",
   "execution_count": 47,
   "id": "5b853912",
   "metadata": {},
   "outputs": [
    {
     "data": {
      "text/plain": [
       "0    3698\n",
       "1     636\n",
       "3      11\n",
       "2       4\n",
       "Name: cluster, dtype: int64"
      ]
     },
     "execution_count": 47,
     "metadata": {},
     "output_type": "execute_result"
    }
   ],
   "source": [
    "RFM1['cluster'].value_counts()"
   ]
  },
  {
   "cell_type": "code",
   "execution_count": null,
   "id": "036446de",
   "metadata": {},
   "outputs": [],
   "source": []
  },
  {
   "cell_type": "code",
   "execution_count": 48,
   "id": "6e0ed554",
   "metadata": {},
   "outputs": [],
   "source": [
    "#how do we decide ehich cluster belongs to what type of group,for that we can do a cluster profiling with their means."
   ]
  },
  {
   "cell_type": "code",
   "execution_count": 49,
   "id": "7dfb7b02",
   "metadata": {},
   "outputs": [
    {
     "name": "stdout",
     "output_type": "stream",
     "text": [
      "cluster profile for kmeans approach\n",
      "            Recency    Frequency      Monetary\n",
      "cluster                                       \n",
      "0         28.800162    95.535425  2.169751e+05\n",
      "1        252.600629    22.191824  4.648383e+04\n",
      "2          2.500000  5866.750000  8.351909e+06\n",
      "3          5.272727  1149.545455  1.215036e+07\n",
      "**********************\n",
      "cluster profile for quantile based approach\n",
      "            Recency   Frequency       Monetary\n",
      "cluster                                       \n",
      "1         10.246586  226.440061  582900.157056\n",
      "2         33.063223   56.887433  123467.793369\n",
      "3         84.732694   24.965921   55223.142812\n",
      "4        165.123270    9.864151   23578.047799\n"
     ]
    }
   ],
   "source": [
    "print('cluster profile for kmeans approach')\n",
    "cluster_profile = RFM1.groupby('cluster').agg({\n",
    "    'Recency': 'mean',\n",
    "    'Frequency': 'mean',\n",
    "    'Monetary': 'mean'\n",
    "})\n",
    "print(cluster_profile)\n",
    "print('**********************')\n",
    "print('cluster profile for quantile based approach')\n",
    "cluster_profile = RFM.groupby('cluster').agg({\n",
    "    'Recency': 'mean',\n",
    "    'Frequency': 'mean',\n",
    "    'Monetary': 'mean'\n",
    "})\n",
    "print(cluster_profile)\n"
   ]
  },
  {
   "cell_type": "markdown",
   "id": "1dba61d1",
   "metadata": {},
   "source": [
    "#as we can see here the the groups are divided as follows from best to wrose>\n",
    " cluster 2 >cluster 3 >cluster 0 >cluster 1"
   ]
  },
  {
   "cell_type": "markdown",
   "id": "a4024a95",
   "metadata": {},
   "source": [
    "# Applying log transformation on RFM"
   ]
  },
  {
   "cell_type": "code",
   "execution_count": 50,
   "id": "4e1c18f3",
   "metadata": {},
   "outputs": [
    {
     "data": {
      "image/png": "[encoded data removed]",
      "text/plain": [
       "<Figure size 864x432 with 3 Axes>"
      ]
     },
     "metadata": {
      "needs_background": "light"
     },
     "output_type": "display_data"
    }
   ],
   "source": [
    "plt.figure(figsize=(12,6))\n",
    "\n",
    "\n",
    "log_recency=np.log1p(RFM['Recency'])\n",
    "log_frequency=np.log1p(RFM['Frequency'])\n",
    "log_monetary=np.log1p(RFM['Monetary'])\n",
    "\n",
    "plt.subplot(1,3,1)\n",
    "sns.distplot(log_recency)\n",
    "\n",
    "plt.subplot(1,3,2)\n",
    "sns.distplot(log_frequency)\n",
    "\n",
    "plt.subplot(1,3,3)\n",
    "sns.distplot(log_monetary)\n",
    "\n",
    "plt.tight_layout()\n",
    "plt.show()"
   ]
  },
  {
   "cell_type": "code",
   "execution_count": 51,
   "id": "9ffb9f8e",
   "metadata": {},
   "outputs": [],
   "source": [
    "log_transform_RFM=pd.DataFrame({'Recency':log_recency,'Frequency':log_frequency,'Monetary':log_monetary.fillna(log_monetary.mean())})"
   ]
  },
  {
   "cell_type": "code",
   "execution_count": 52,
   "id": "b7bf6571",
   "metadata": {},
   "outputs": [],
   "source": [
    "log_scaled_RFM=pd.DataFrame(sc_log.fit_transform(log_transform_RFM),columns=log_transform_RFM.columns)"
   ]
  },
  {
   "cell_type": "code",
   "execution_count": 53,
   "id": "9712a545",
   "metadata": {},
   "outputs": [],
   "source": [
    "kmeans_log=KMeans(n_clusters=4,max_iter=1000,random_state=42)\n",
    "log_transform_RFM['cluster']=kmeans_log.fit_predict(log_scaled_RFM)"
   ]
  },
  {
   "cell_type": "code",
   "execution_count": 54,
   "id": "64a4cdf5",
   "metadata": {},
   "outputs": [
    {
     "name": "stdout",
     "output_type": "stream",
     "text": [
      "values in each cluster for: \n",
      "kmeans using log transform RFM: \n",
      "3    1353\n",
      "0    1272\n",
      "2     906\n",
      "1     818\n",
      "Name: cluster, dtype: int64\n",
      "quantile based RFM: \n",
      "1    1318\n",
      "2    1297\n",
      "3     939\n",
      "4     795\n",
      "Name: cluster, dtype: int64\n",
      "kmeans: \n",
      "0    3698\n",
      "1     636\n",
      "3      11\n",
      "2       4\n",
      "Name: cluster, dtype: int64\n"
     ]
    }
   ],
   "source": [
    "print('values in each cluster for: ')\n",
    "print('kmeans using log transform RFM: ')\n",
    "print(log_transform_RFM['cluster'].value_counts())\n",
    "print('quantile based RFM: ')\n",
    "print(RFM['cluster'].value_counts())\n",
    "print('kmeans: ')\n",
    "print(RFM1['cluster'].value_counts())"
   ]
  },
  {
   "cell_type": "code",
   "execution_count": 55,
   "id": "4d658976",
   "metadata": {},
   "outputs": [
    {
     "name": "stdout",
     "output_type": "stream",
     "text": [
      "cluster profile for kmeans approach\n",
      "            Recency    Frequency      Monetary\n",
      "cluster                                       \n",
      "0         28.800162    95.535425  2.169751e+05\n",
      "1        252.600629    22.191824  4.648383e+04\n",
      "2          2.500000  5866.750000  8.351909e+06\n",
      "3          5.272727  1149.545455  1.215036e+07\n",
      "**********************\n",
      "cluster profile for quantile based approach\n",
      "            Recency   Frequency       Monetary\n",
      "cluster                                       \n",
      "1         10.246586  226.440061  582900.157056\n",
      "2         33.063223   56.887433  123467.793369\n",
      "3         84.732694   24.965921   55223.142812\n",
      "4        165.123270    9.864151   23578.047799\n",
      "**********************\n",
      "cluster profile for log transformed RFM based approach\n",
      "          Recency  Frequency   Monetary\n",
      "cluster                                \n",
      "0        2.336854   5.143249  12.824496\n",
      "1        4.698435   2.045844   9.969639\n",
      "2        4.547153   3.606311  11.260911\n",
      "3        2.613390   3.550461  11.059287\n"
     ]
    }
   ],
   "source": [
    "print('cluster profile for kmeans approach')\n",
    "cluster_profile = RFM1.groupby('cluster').agg({\n",
    "    'Recency': 'mean',\n",
    "    'Frequency': 'mean',\n",
    "    'Monetary': 'mean'\n",
    "})\n",
    "print(cluster_profile)\n",
    "print('**********************')\n",
    "\n",
    "print('cluster profile for quantile based approach')\n",
    "cluster_profile = RFM.groupby('cluster').agg({\n",
    "    'Recency': 'mean',\n",
    "    'Frequency': 'mean',\n",
    "    'Monetary': 'mean'\n",
    "})\n",
    "print(cluster_profile)\n",
    "\n",
    "print('**********************')\n",
    "\n",
    "print('cluster profile for log transformed RFM based approach')\n",
    "cluster_profile = log_transform_RFM.groupby('cluster').agg({\n",
    "    'Recency': 'mean',\n",
    "    'Frequency': 'mean',\n",
    "    'Monetary': 'mean'\n",
    "})\n",
    "print(cluster_profile)"
   ]
  },
  {
   "cell_type": "code",
   "execution_count": 56,
   "id": "86672ef6",
   "metadata": {},
   "outputs": [],
   "source": [
    "#here we can see that harcoded quantile based and log transformed RFM using kmeans perform well in comparison to direct kmeans,\n",
    "#so we can use either of those methods\n",
    "# the order of cluster for kmeans(log transformed) is (best to worse):\n",
    "#cluster 0>cluster 3>cluster 2>cluster 1"
   ]
  },
  {
   "cell_type": "markdown",
   "id": "c1c16e70",
   "metadata": {},
   "source": [
    "# assignning cluster to a new data point"
   ]
  },
  {
   "cell_type": "code",
   "execution_count": 57,
   "id": "b85a11e5",
   "metadata": {},
   "outputs": [],
   "source": []
  },
  {
   "cell_type": "code",
   "execution_count": 72,
   "id": "b36ad7fb",
   "metadata": {},
   "outputs": [
    {
     "data": {
      "text/plain": [
       "1"
      ]
     },
     "execution_count": 72,
     "metadata": {},
     "output_type": "execute_result"
    }
   ],
   "source": [
    "def cluster_assignment(R,F,M):\n",
    "    log_transformed_new_point = pd.DataFrame({\n",
    "    'Recency': [np.log1p(R)],\n",
    "    'Frequency': [np.log1p(F)],\n",
    "    'Monetary': [np.log1p(M)]\n",
    "    })\n",
    "\n",
    "    # Scale the new data\n",
    "    scaled_new_data = sc_log.transform(log_transformed_new_point)\n",
    "    \n",
    "    # Use the trained KMeans model to predict the cluster\n",
    "    predicted_cluster = kmeans_log.predict(scaled_new_data)\n",
    "    \n",
    "\n",
    "    return predicted_cluster[0]\n",
    "\n",
    "cluster_assignment(100,10,1000)"
   ]
  },
  {
   "cell_type": "code",
   "execution_count": null,
   "id": "878820cb",
   "metadata": {},
   "outputs": [],
   "source": []
  },
  {
   "cell_type": "code",
   "execution_count": null,
   "id": "5facf8a9",
   "metadata": {},
   "outputs": [],
   "source": []
  }
 ],
 "metadata": {
  "kernelspec": {
   "display_name": "Python 3 (ipykernel)",
   "language": "python",
   "name": "python3"
  },
  "language_info": {
   "codemirror_mode": {
    "name": "ipython",
    "version": 3
   },
   "file_extension": ".py",
   "mimetype": "text/x-python",
   "name": "python",
   "nbconvert_exporter": "python",
   "pygments_lexer": "ipython3",
   "version": "3.9.12"
  }
 },
 "nbformat": 4,
 "nbformat_minor": 5
}
